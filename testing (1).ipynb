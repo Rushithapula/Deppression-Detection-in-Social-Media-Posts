{
 "cells": [
  {
   "cell_type": "code",
   "execution_count": 23,
   "id": "52361db7",
   "metadata": {},
   "outputs": [],
   "source": [
    "from tensorflow.keras.models import load_model\n",
    "import pickle\n",
    "\n",
    "def load_depression_classification_model(model_path, tokenizer_path, label_encoder_path):\n",
    "    # Load the Keras model\n",
    "    model = load_model(model_path)\n",
    "    \n",
    "    # Load the tokenizer\n",
    "    with open(tokenizer_path, 'rb') as tokenizer_file:\n",
    "        tokenizer = pickle.load(tokenizer_file)\n",
    "        \n",
    "    # Load the label encoder\n",
    "    with open(label_encoder_path, 'rb') as label_encoder_file:\n",
    "        label_encoder = pickle.load(label_encoder_file)\n",
    "        \n",
    "    return model, tokenizer, label_encoder\n",
    "\n",
    "model, tokenizer, label_encoder = load_depression_classification_model('depression_model.h5', 'tokenizer.pkl', 'label_encoder.pkl')\n"
   ]
  },
  {
   "cell_type": "code",
   "execution_count": 31,
   "id": "6323c55a",
   "metadata": {},
   "outputs": [
    {
     "name": "stdout",
     "output_type": "stream",
     "text": [
      "Enter text: I'm consumed by thoughts of worthlessness and hopelessness. It's like I'm trapped in my own mind\n",
      "1/1 [==============================] - 0s 30ms/step\n",
      "Predicted depression level: Low\n"
     ]
    }
   ],
   "source": [
    "from tensorflow.keras.preprocessing.sequence import pad_sequences\n",
    "import numpy as np\n",
    "from afinn import Afinn\n",
    "def predict_depression_level(text, model, tokenizer, label_encoder):\n",
    "    # Tokenize the text\n",
    "    sequence = tokenizer.texts_to_sequences([text])\n",
    "    padded_sequence = pad_sequences(sequence, maxlen=128)\n",
    "\n",
    "    # Make prediction\n",
    "    prediction = model.predict(padded_sequence)\n",
    "\n",
    "    # Get the predicted class\n",
    "    predicted_class = np.argmax(prediction)\n",
    "\n",
    "    # Convert the class index back to original label\n",
    "    predicted_level = label_encoder.inverse_transform([predicted_class])[0]\n",
    "\n",
    "    return predicted_level\n",
    "\n",
    "\n",
    "text = input(\"Enter text: \")\n",
    "\n",
    "\n",
    "\n",
    "afinn = Afinn()\n",
    "# Analyze text data and calculate sentiment scores\n",
    "score=afinn.score(text)\n",
    "if(score<0):\n",
    "    predicted_level = predict_depression_level(text, model, tokenizer, label_encoder)\n",
    "    print(\"Predicted depression level:\", predicted_level)\n",
    "else:\n",
    "    print(\"you are fine\")\n"
   ]
  },
  {
   "cell_type": "code",
   "execution_count": null,
   "id": "cd45d20d",
   "metadata": {},
   "outputs": [],
   "source": []
  },
  {
   "cell_type": "code",
   "execution_count": null,
   "id": "8259b269",
   "metadata": {},
   "outputs": [],
   "source": []
  },
  {
   "cell_type": "code",
   "execution_count": 1,
   "id": "8d6f9f15",
   "metadata": {},
   "outputs": [],
   "source": [
    "from tensorflow.keras.models import load_model\n",
    "import pickle\n",
    "\n",
    "def load_depression_classification_model_nrc(model_path, tokenizer_path, label_encoder_path):\n",
    "    # Load the Keras model\n",
    "    model = load_model(model_path)\n",
    "    \n",
    "    # Load the tokenizer\n",
    "    with open(tokenizer_path, 'rb') as tokenizer_file:\n",
    "        tokenizer = pickle.load(tokenizer_file)\n",
    "        \n",
    "    # Load the label encoder\n",
    "    with open(label_encoder_path, 'rb') as label_encoder_file:\n",
    "        label_encoder = pickle.load(label_encoder_file)\n",
    "        \n",
    "    return model, tokenizer, label_encoder\n",
    "\n",
    "model, tokenizer, label_encoder = load_depression_classification_model_nrc('depression_model_NRClexicon.h5', 'tokenizer_nrc.pkl', 'label_encoder_nrc.pkl')\n"
   ]
  },
  {
   "cell_type": "code",
   "execution_count": 33,
   "id": "d0f4ea6a",
   "metadata": {},
   "outputs": [
    {
     "name": "stdout",
     "output_type": "stream",
     "text": [
      "Enter text: I'm drowning in a sea of despair, and I don't know how to swim. It's like I'm being pulled further down with each passing day\n",
      "1/1 [==============================] - 0s 32ms/step\n",
      "Predicted depression level: Medium\n"
     ]
    }
   ],
   "source": [
    "from nrclex import NRCLex\n",
    "from tensorflow.keras.preprocessing.sequence import pad_sequences\n",
    "import numpy as np\n",
    "def predict_depression_level(text, model, tokenizer, label_encoder):\n",
    "    # Tokenize the text\n",
    "    sequence = tokenizer.texts_to_sequences([text])\n",
    "    padded_sequence = pad_sequences(sequence, maxlen=128)\n",
    "    # Make prediction\n",
    "    prediction = model.predict(padded_sequence)\n",
    "    # Decode the predicted label\n",
    "    predicted_label = label_encoder.inverse_transform(prediction.argmax(axis=1))[0]\n",
    "    return predicted_label\n",
    "\n",
    "# Define a function to extract depression scores from the text\n",
    "def extract_depression_scores(text):\n",
    "    nrc_obj = NRCLex(text)\n",
    "    raw_scores = nrc_obj.raw_emotion_scores\n",
    "    sadness_score = raw_scores.get('sadness', 0)\n",
    "    fear_score = raw_scores.get('fear', 0)\n",
    "    anger_score = raw_scores.get('anger', 0)\n",
    "    negative_score = raw_scores.get('negative', 0)\n",
    "    disgust_score = raw_scores.get('disgust', 0)\n",
    "    depression_score = sadness_score + fear_score + anger_score + negative_score + disgust_score\n",
    "    return depression_score\n",
    "\n",
    "# Get input text from the user\n",
    "text = input(\"Enter text: \")\n",
    "\n",
    "# Extract depression scores from the input text\n",
    "depression_score = extract_depression_scores(text)\n",
    "\n",
    "# Check if the depression score is zero\n",
    "if depression_score != 0:\n",
    "    # Predict the depression level using the trained model\n",
    "    predicted_level = predict_depression_level(text, model, tokenizer, label_encoder)\n",
    "    print(\"Predicted depression level:\", predicted_level)\n",
    "else:\n",
    "    print(\"You are fine\")"
   ]
  },
  {
   "cell_type": "code",
   "execution_count": null,
   "id": "61c5772d",
   "metadata": {},
   "outputs": [],
   "source": []
  }
 ],
 "metadata": {
  "kernelspec": {
   "display_name": "Python 3 (ipykernel)",
   "language": "python",
   "name": "python3"
  },
  "language_info": {
   "codemirror_mode": {
    "name": "ipython",
    "version": 3
   },
   "file_extension": ".py",
   "mimetype": "text/x-python",
   "name": "python",
   "nbconvert_exporter": "python",
   "pygments_lexer": "ipython3",
   "version": "3.9.12"
  }
 },
 "nbformat": 4,
 "nbformat_minor": 5
}
